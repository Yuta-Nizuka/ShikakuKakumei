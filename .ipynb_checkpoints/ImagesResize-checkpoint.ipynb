{
 "cells": [
  {
   "cell_type": "code",
   "execution_count": 1,
   "metadata": {},
   "outputs": [],
   "source": [
    "import PySimpleGUI as sg\n",
    "from os.path import basename"
   ]
  },
  {
   "cell_type": "code",
   "execution_count": 1,
   "metadata": {},
   "outputs": [
    {
     "ename": "NameError",
     "evalue": "name 'sg' is not defined",
     "output_type": "error",
     "traceback": [
      "\u001b[1;31m---------------------------------------------------------------------------\u001b[0m",
      "\u001b[1;31mNameError\u001b[0m                                 Traceback (most recent call last)",
      "\u001b[1;32m<ipython-input-1-bc5529ead924>\u001b[0m in \u001b[0;36m<module>\u001b[1;34m\u001b[0m\n\u001b[1;32m----> 1\u001b[1;33m \u001b[0msg\u001b[0m\u001b[1;33m.\u001b[0m\u001b[0mtheme\u001b[0m\u001b[1;33m(\u001b[0m\u001b[1;34m'Light Brown'\u001b[0m\u001b[1;33m)\u001b[0m\u001b[1;33m\u001b[0m\u001b[1;33m\u001b[0m\u001b[0m\n\u001b[0m\u001b[0;32m      2\u001b[0m \u001b[1;33m\u001b[0m\u001b[0m\n\u001b[0;32m      3\u001b[0m frame1 = [[sg.Radio('1ファイルにシートごとにまとめる', 1, key='-MULTI-SHEET-', default=True)],\n\u001b[0;32m      4\u001b[0m           [sg.Radio('1ファイル1シートにまとめる', 1, key='-ONE-SHEET-')]]          \n\u001b[0;32m      5\u001b[0m \u001b[1;33m\u001b[0m\u001b[0m\n",
      "\u001b[1;31mNameError\u001b[0m: name 'sg' is not defined"
     ]
    }
   ],
   "source": [
    "sg.theme('Light Brown')\n",
    "\n",
    "frame1 = [[sg.Radio('1ファイルにシートごとにまとめる', 1, key='-MULTI-SHEET-', default=True)],\n",
    "          [sg.Radio('1ファイル1シートにまとめる', 1, key='-ONE-SHEET-')]]          \n",
    "\n",
    "col1 = [[sg.Button('実行')],\n",
    "       [sg.Button('終了')]]\n",
    "\n",
    "layout = [[sg.Text('ファイル選択', size=(15, 1), justification='right'),\n",
    "          sg.InputText('ファイル一覧', enable_events=True,),\n",
    "          sg.FilesBrowse('ファイルを追加', key='-FILES-', file_types=(('Excell ファイル', '*.xlsx'),))],\n",
    "          [sg.Button('ログをコピー'), sg.Button('ログをクリア')],\n",
    "          [sg.Output(size=(100, 5), key='-MULTILINE-')],\n",
    "          [sg.Button('入力一覧をクリア')],\n",
    "          [sg.Listbox([], size=(100, 10), enable_events=True, key='-LIST-')],\n",
    "          [sg.Frame('処理内容', frame1), sg.Column(col1)]]\n",
    "\n",
    "new_files = []\n",
    "new_file_names = []\n",
    "\n",
    "\n",
    "window = sg.Window('エクセルの結合', layout)\n",
    "\n",
    "while True:\n",
    "    event, values = window.read()\n",
    "    if event == sg.WIN_CLOSED:\n",
    "        break\n",
    "    if event == '実行':\n",
    "        print('処理を実行')\n",
    "        print('処理対象ファイル:',new_files)\n",
    "    \n",
    "        #ラジオボタンの値によって処理が変わる\n",
    "        if values['-MULTI-SHEET-']:\n",
    "            print('複数シートを1ファイルにまとめる')\n",
    "        elif values['-ONE SHEET-']:\n",
    "            print('複数シートを1シートにまとめる')\n",
    "        \n",
    "        # ポップアップ\n",
    "        sg.popup('処理が正常終了しました')\n",
    "    elif event == 'ログをクリア':\n",
    "        print('ログをクリア')\n",
    "        window.FindElement('-MULTILINE-').Update('')\n",
    "        sg.popup('ログをコピーしました')\n",
    "    elif event == '入力一覧をクリア':\n",
    "        print('入力一覧をクリア')\n",
    "\n",
    "        new_files.clear()\n",
    "        new_file_names.clear()\n",
    "        window['-List-'].update('')\n",
    "    elif values['-FILES-'] !='':\n",
    "        print('FILEsBrowse')\n",
    "    \n",
    "    #Todo:実運用には同一ファイルかどうかの処理が必要\n",
    "    new_files.extend(values['-FILES-'].split(';'))\n",
    "    new_file_names.extend([basename(file_path) for file_path in new_files])\n",
    "    \n",
    "    print('ファイルを追加')\n",
    "    window['-LIST-'].update(new_file_names) #リストボックスに表示\n",
    "    \n",
    "window.close()"
   ]
  },
  {
   "cell_type": "code",
   "execution_count": null,
   "metadata": {},
   "outputs": [],
   "source": [
    "#csvを読み込み\n",
    "\n",
    "import pandas as pd\n",
    "import os\n",
    "path = os.getcwd() + '\\\\data\\\\src\\\\sample.csv'\n",
    "df = pd.read_csv(path, encoding=\"shift-jis\")\n",
    "print(df)"
   ]
  },
  {
   "cell_type": "code",
   "execution_count": null,
   "metadata": {},
   "outputs": [],
   "source": []
  },
  {
   "cell_type": "code",
   "execution_count": 50,
   "metadata": {},
   "outputs": [
    {
     "name": "stdout",
     "output_type": "stream",
     "text": [
      "画像の高さは、 1365\n",
      "画像の幅は、 2048\n"
     ]
    }
   ],
   "source": [
    "#画像を読み込み\n",
    "from PIL import Image\n",
    "\n",
    "filepath = os.getcwd() \n",
    "resize_directory =  r'\\\\data\\\\src\\\\'\n",
    "test_image = 'Original.jpg'\n",
    "img = Image.open(filepath + resize_directory + test_image)\n",
    "\n",
    "width = img.width\n",
    "height = img.height\n",
    "\n",
    "print(\"画像の高さは、\",height)\n",
    "print(\"画像の幅は、\",width)\n"
   ]
  },
  {
   "cell_type": "code",
   "execution_count": 52,
   "metadata": {},
   "outputs": [],
   "source": [
    "from PIL import Image\n",
    "im = Image.open(filepath + resize_directory + test_image)"
   ]
  },
  {
   "cell_type": "code",
   "execution_count": 53,
   "metadata": {},
   "outputs": [],
   "source": [
    "#画像に余白を追加\n",
    "def add_margin(pil_img,top,right,bottom,left, color):\n",
    "    width, height = pil_img.size\n",
    "    new_width = width + right + left\n",
    "    new_height = height + top + bottom\n",
    "    result = Image.new(pil_img.mode,(new_width, new_height),color)\n",
    "    result.paste(pil_img,(left,top))\n",
    "    return result\n",
    "#画像をリサイズして出力    "
   ]
  },
  {
   "cell_type": "code",
   "execution_count": 54,
   "metadata": {},
   "outputs": [],
   "source": [
    "im_new = add_margin(im,50,10,0,100,(128 ,0, 64))\n",
    "im_new.save(os.getcwd() + r'\\\\data\\\\src\\\\astronaut_add_margin.jpg', quality=95)\n",
    "#画像をリネーム"
   ]
  },
  {
   "cell_type": "code",
   "execution_count": 55,
   "metadata": {},
   "outputs": [],
   "source": [
    "#長方形に余白を追加し正方形にする\n",
    "def expand2square(pil_img, background_color):\n",
    "    width, height = pil_img.size\n",
    "    if width == height:\n",
    "        return pil_img\n",
    "    elif width > height:\n",
    "        result = Image.new(pil_img.mode, (width, width), background_color)\n",
    "        result.paste(pil_img, (0, (width - height) // 2))\n",
    "        return result\n",
    "    else:\n",
    "        result = Image.new(pil_img.mode, (height, height), background_color)\n",
    "        result.paste(pil_img, ((height - width) // 2, 0))\n",
    "        return result"
   ]
  },
  {
   "cell_type": "code",
   "execution_count": 56,
   "metadata": {},
   "outputs": [],
   "source": [
    "im_new = expand2square(im, (0, 0, 0)).resize((400,400))\n",
    "im_new.save(os.getcwd() + r'\\\\data\\\\src\\\\astronaut_expand_square.jpg', quality=95)"
   ]
  },
  {
   "cell_type": "code",
   "execution_count": null,
   "metadata": {},
   "outputs": [],
   "source": [
    "\n",
    "#yahoo用\n",
    "#画像ファイルを圧縮\n"
   ]
  },
  {
   "cell_type": "code",
   "execution_count": 6,
   "metadata": {},
   "outputs": [],
   "source": [
    "#future用\n",
    "#画像をリネーム後、goodsimageフォルダを作成しzip化\n",
    "#更新し直すためのcsv出力"
   ]
  },
  {
   "cell_type": "code",
   "execution_count": null,
   "metadata": {},
   "outputs": [],
   "source": [
    "#楽天"
   ]
  }
 ],
 "metadata": {
  "kernelspec": {
   "display_name": "Python 3",
   "language": "python",
   "name": "python3"
  },
  "language_info": {
   "codemirror_mode": {
    "name": "ipython",
    "version": 3
   },
   "file_extension": ".py",
   "mimetype": "text/x-python",
   "name": "python",
   "nbconvert_exporter": "python",
   "pygments_lexer": "ipython3",
   "version": "3.8.3"
  }
 },
 "nbformat": 4,
 "nbformat_minor": 4
}
