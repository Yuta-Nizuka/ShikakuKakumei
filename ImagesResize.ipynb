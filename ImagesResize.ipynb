{
 "cells": [
  {
   "cell_type": "code",
   "execution_count": 47,
   "metadata": {},
   "outputs": [
    {
     "name": "stdout",
     "output_type": "stream",
     "text": [
      "       商品コード\n",
      "0  a00111111\n",
      "1  b32424242\n",
      "2  c32323232\n",
      "3   d3442424\n",
      "4  E645632-4\n",
      "5    F324242\n",
      "6   g3220002\n"
     ]
    }
   ],
   "source": [
    "#csvを読み込み\n",
    "\n",
    "import pandas as pd\n",
    "import os\n",
    "path = os.getcwd() + '\\\\data\\\\src\\\\sample.csv'\n",
    "\n",
    "df = pd.read_csv(path, encoding=\"shift-jis\")\n",
    "print(df)"
   ]
  },
  {
   "cell_type": "code",
   "execution_count": 20,
   "metadata": {},
   "outputs": [],
   "source": [
    "#画像を読み込み"
   ]
  },
  {
   "cell_type": "code",
   "execution_count": 4,
   "metadata": {},
   "outputs": [],
   "source": [
    "#画像をリサイズして出力"
   ]
  },
  {
   "cell_type": "code",
   "execution_count": 5,
   "metadata": {},
   "outputs": [],
   "source": [
    "#画像をリネーム"
   ]
  },
  {
   "cell_type": "code",
   "execution_count": null,
   "metadata": {},
   "outputs": [],
   "source": [
    "#yahoo用\n",
    "#画像ファイルを圧縮\n"
   ]
  },
  {
   "cell_type": "code",
   "execution_count": 6,
   "metadata": {},
   "outputs": [],
   "source": [
    "#future用\n",
    "#画像をリネーム後、goodsimageフォルダを作成しzip化\n",
    "#更新し直すためのcsv出力"
   ]
  },
  {
   "cell_type": "code",
   "execution_count": null,
   "metadata": {},
   "outputs": [],
   "source": [
    "#楽天"
   ]
  }
 ],
 "metadata": {
  "kernelspec": {
   "display_name": "Python 3",
   "language": "python",
   "name": "python3"
  },
  "language_info": {
   "codemirror_mode": {
    "name": "ipython",
    "version": 3
   },
   "file_extension": ".py",
   "mimetype": "text/x-python",
   "name": "python",
   "nbconvert_exporter": "python",
   "pygments_lexer": "ipython3",
   "version": "3.8.3"
  }
 },
 "nbformat": 4,
 "nbformat_minor": 4
}
