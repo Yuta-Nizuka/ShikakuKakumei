{
 "cells": [
  {
   "cell_type": "code",
   "execution_count": 13,
   "metadata": {},
   "outputs": [],
   "source": [
    "import PySimpleGUI as sg\n",
    "from os.path import basename\n",
    "import os\n",
    "#画像を読み込み\n",
    "from PIL import Image\n"
   ]
  },
  {
   "cell_type": "code",
   "execution_count": 22,
   "metadata": {},
   "outputs": [],
   "source": [
    "sg.theme('Light Brown')\n",
    "\n",
    "frame1 = [[sg.Radio('ファイルを正方形にする', 1, key='-MULTI-SHEET-', default=True)]]          \n",
    "\n",
    "col1 = [[sg.Button('実行')],\n",
    "       [sg.Button('終了')]]\n",
    "\n",
    "layout = [[sg.Text('ファイル選択', size=(15, 1), justification='right'),\n",
    "          sg.InputText('ファイル一覧', enable_events=True,),\n",
    "          sg.FilesBrowse('ファイルを追加', key='-FILES-', file_types=(('jpgファイル', '*.jpg'),))],\n",
    "          [sg.Output(size=(100, 5), key='-MULTILINE-')],\n",
    "          [sg.Button('入力一覧をクリア')],\n",
    "          [sg.Listbox([], size=(100, 10), enable_events=True, key='-LIST-')],\n",
    "          [sg.Frame('処理内容', frame1), sg.Column(col1)]]\n",
    "\n",
    "window = sg.Window('しかくかくめい（β）', layout)\n",
    "\n",
    "#配列に格納する\n",
    "new_files = []\n",
    "new_file_names = []\n",
    "\n",
    "while True:\n",
    "    event, values = window.read()\n",
    "    if event in (None, '終了'):\n",
    "        break\n",
    "\n",
    "    if event == '実行':\n",
    "        print('処理を実行')\n",
    "        print('処理対象ファイル：', new_files)\n",
    "\n",
    "        # ラジオボタンの値によって処理が変わる\n",
    "        if values['-MULTI-SHEET-']:\n",
    "            img = Image.open(values[0])\n",
    "            width = img.width\n",
    "            height = img.height\n",
    "            print('画像を正方形にする')\n",
    "         \n",
    "            def expand2square(pil_img, background_color):\n",
    "                width, height = pil_img.size\n",
    "                if width == height:\n",
    "                    return pil_img\n",
    "                elif width > height:\n",
    "                    result = Image.new(pil_img.mode, (width, width), background_color)\n",
    "                    result.paste(pil_img, (0, (width - height) // 2))\n",
    "                    return result\n",
    "                else:\n",
    "                    result = Image.new(pil_img.mode, (height, height), background_color)\n",
    "                    result.paste(pil_img, ((height - width) // 2, 0))\n",
    "                    return result\n",
    "            for i in new_file_names :\n",
    "                img_new = expand2square(img, (255, 255, 255)).resize((400,400))\n",
    "                img_new.save(os.getcwd() + '\\\\sq_' + (str((i))) , quality=95)\n",
    "            \n",
    "        # ポップアップ\n",
    "        sg.popup('処理が正常終了しました')\n",
    "    elif event == '入力一覧をクリア':\n",
    "        print('入力一覧をクリア')\n",
    "\n",
    "        new_files.clear()\n",
    "        new_file_names.clear()\n",
    "        window['-LIST-'].update('')\n",
    "    elif values['-FILES-'] != '':\n",
    "       #  print('FilesBrowse')\n",
    "\n",
    "        # TODO:実運用には同一ファイルかどうかの処理が必要\n",
    "        new_files.extend(values['-FILES-'].split(';'))\n",
    "        new_file_names.extend([basename(file_path) for file_path in new_files])\n",
    "\n",
    "        print('ファイルを追加')\n",
    "        window['-LIST-'].update(new_file_names)  # リストボックスに表示します\n",
    "\n",
    "window.close()"
   ]
  },
  {
   "cell_type": "code",
   "execution_count": null,
   "metadata": {},
   "outputs": [],
   "source": [
    "#csvを読み込み\n",
    "import pandas as pd\n",
    "\n",
    "path = os.getcwd() + '\\\\data\\\\src\\\\sample.csv'\n",
    "df = pd.read_csv(path, encoding=\"shift-jis\")\n",
    "print(df)"
   ]
  },
  {
   "cell_type": "code",
   "execution_count": 50,
   "metadata": {},
   "outputs": [
    {
     "name": "stdout",
     "output_type": "stream",
     "text": [
      "画像の高さは、 1365\n",
      "画像の幅は、 2048\n"
     ]
    }
   ],
   "source": [
    "#画像を読み込み\n",
    "from PIL import Image\n",
    "\n",
    "filepath = os.getcwd() \n",
    "resize_directory =  r'\\\\data\\\\src\\\\'\n",
    "test_image = 'Original.jpg'\n",
    "img = Image.open(filepath + resize_directory + test_image)\n",
    "\n",
    "width = img.width\n",
    "height = img.height\n",
    "\n",
    "print(\"画像の高さは、\",height)\n",
    "print(\"画像の幅は、\",width)\n"
   ]
  },
  {
   "cell_type": "code",
   "execution_count": 52,
   "metadata": {},
   "outputs": [],
   "source": [
    "from PIL import Image\n",
    "im = Image.open(filepath + resize_directory + test_image)"
   ]
  },
  {
   "cell_type": "code",
   "execution_count": 53,
   "metadata": {},
   "outputs": [],
   "source": [
    "#画像に余白を追加\n",
    "def add_margin(pil_img,top,right,bottom,left, color):\n",
    "    width, height = pil_img.size\n",
    "    new_width = width + right + left\n",
    "    new_height = height + top + bottom\n",
    "    result = Image.new(pil_img.mode,(new_width, new_height),color)\n",
    "    result.paste(pil_img,(left,top))\n",
    "    return result\n",
    "#画像をリサイズして出力    "
   ]
  },
  {
   "cell_type": "code",
   "execution_count": 54,
   "metadata": {},
   "outputs": [],
   "source": [
    "im_new = add_margin(im,50,10,0,100,(128 ,0, 64))\n",
    "im_new.save(os.getcwd() + r'\\\\data\\\\src\\\\astronaut_add_margin.jpg', quality=95)\n",
    "#画像をリネーム"
   ]
  },
  {
   "cell_type": "code",
   "execution_count": 55,
   "metadata": {},
   "outputs": [],
   "source": [
    "#長方形に余白を追加し正方形にする\n",
    "def expand2square(pil_img, background_color):\n",
    "    width, height = pil_img.size\n",
    "    if width == height:\n",
    "        return pil_img\n",
    "    elif width > height:\n",
    "        result = Image.new(pil_img.mode, (width, width), background_color)\n",
    "        result.paste(pil_img, (0, (width - height) // 2))\n",
    "        return result\n",
    "    else:\n",
    "        result = Image.new(pil_img.mode, (height, height), background_color)\n",
    "        result.paste(pil_img, ((height - width) // 2, 0))\n",
    "        return result"
   ]
  },
  {
   "cell_type": "code",
   "execution_count": 56,
   "metadata": {},
   "outputs": [],
   "source": [
    "im_new = expand2square(im, (0, 0, 0)).resize((400,400))\n",
    "im_new.save(os.getcwd() + r'\\\\data\\\\src\\\\astronaut_expand_square.jpg', quality=95)"
   ]
  },
  {
   "cell_type": "code",
   "execution_count": null,
   "metadata": {},
   "outputs": [],
   "source": [
    "\n",
    "#yahoo用\n",
    "#画像ファイルを圧縮\n"
   ]
  },
  {
   "cell_type": "code",
   "execution_count": 6,
   "metadata": {},
   "outputs": [],
   "source": [
    "#future用\n",
    "#画像をリネーム後、goodsimageフォルダを作成しzip化\n",
    "#更新し直すためのcsv出力"
   ]
  },
  {
   "cell_type": "code",
   "execution_count": null,
   "metadata": {},
   "outputs": [],
   "source": [
    "#楽天"
   ]
  }
 ],
 "metadata": {
  "kernelspec": {
   "display_name": "Python 3",
   "language": "python",
   "name": "python3"
  },
  "language_info": {
   "codemirror_mode": {
    "name": "ipython",
    "version": 3
   },
   "file_extension": ".py",
   "mimetype": "text/x-python",
   "name": "python",
   "nbconvert_exporter": "python",
   "pygments_lexer": "ipython3",
   "version": "3.8.3"
  }
 },
 "nbformat": 4,
 "nbformat_minor": 4
}
